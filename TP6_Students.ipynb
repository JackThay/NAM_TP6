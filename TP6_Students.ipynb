{
 "cells": [
  {
   "cell_type": "markdown",
   "id": "4294d20d",
   "metadata": {},
   "source": [
    "# Lab Work 6 (Student version): apply and compare community detection algorithms"
   ]
  },
  {
   "cell_type": "markdown",
   "id": "5f7e52a6",
   "metadata": {},
   "source": [
    "## Preparatory Instructions\n",
    "\n",
    "#### Packages\n",
    "For this lab work, we will exceptionally use specific packages, make sure you have installed:\n",
    "\n",
    "* pip install scipy\n",
    "* pip install scikit-learn\n",
    "* pip install networkx\n",
    "* pip install python-mnist\n",
    "* pip install python-louvain\n",
    "\n",
    "#### Utilities\n",
    "Additionally, make sure to have the python file **utility_functions.py** provided on Moodle. The functions defined in this file are described at the end of this notebook.\n",
    "\n",
    "#### Data\n",
    "Finally, make sure to have the MNIST dataset in your working directory, also on Moodle."
   ]
  },
  {
   "cell_type": "markdown",
   "id": "e91455e1",
   "metadata": {},
   "source": [
    "Then you can execute the libraries block below:"
   ]
  },
  {
   "cell_type": "code",
   "execution_count": null,
   "id": "51f54a47",
   "metadata": {},
   "outputs": [],
   "source": [
    "!pip install scipy # sciencific computation\n",
    "!pip install scikit-learn # machine learning\n",
    "!pip install networkx # network analysis\n",
    "!pip install python-mnist\n",
    "!pip install python-louvain"
   ]
  },
  {
   "cell_type": "code",
   "execution_count": null,
   "id": "60a5a18c",
   "metadata": {},
   "outputs": [],
   "source": [
    "import matplotlib.pyplot as plt\n",
    "import math\n",
    "import sys\n",
    "import random\n",
    "import time\n",
    "import numpy as np\n",
    "\n",
    "from utility_functions import *\n",
    "\n",
    "print(sys.version)"
   ]
  },
  {
   "cell_type": "markdown",
   "id": "99609674",
   "metadata": {},
   "source": [
    "### Exercise 1: Exploratory data analysis\n",
    "\n",
    "A common approach for data analysis is to look for patterns visually. This is also the case for community detection. \n",
    "\n",
    "Recall that a community is a group of vertices more densely connected between them than towards the rest the network. Therefore, it is common to try to see if there exists a community structure by visualizing the network and looking for groups of densely interconnected vertices. \n",
    "\n",
    "Naturally, if clusters can be identified visually, why bother with community detection algorithms? The goal of this exercise is to explore the advantages and limitations of the exploratory visual approach for community detection and to motivate the need for automatic algorithms. "
   ]
  },
  {
   "cell_type": "markdown",
   "id": "7a4e3756",
   "metadata": {},
   "source": [
    "#### 1.1  Communities with the Stochastic Block Model"
   ]
  },
  {
   "cell_type": "markdown",
   "id": "b9b9929a",
   "metadata": {},
   "source": [
    "**1.1.1**. Generate a network with the stochastic block model (SBM). \\\n",
    "Use the following parameters: nodes_community=200, num_communities=5, degree_in = 5, degree_out = 0.5."
   ]
  },
  {
   "cell_type": "code",
   "execution_count": null,
   "id": "896f261b",
   "metadata": {},
   "outputs": [],
   "source": [
    "nodes_community = 200 \n",
    "num_communities = 5\n",
    "deg_in = 5\n",
    "deg_out = 0.5\n",
    "sbm_list_standard, sbm_graph_standard = get_SBM_network(nodes_community, num_communities, deg_in, deg_out)"
   ]
  },
  {
   "cell_type": "markdown",
   "id": "9f6b5927",
   "metadata": {},
   "source": [
    "**1.1.2**. Visualize the network using the function network_visualization()"
   ]
  },
  {
   "cell_type": "code",
   "execution_count": null,
   "id": "b826eeaf",
   "metadata": {},
   "outputs": [],
   "source": [
    "# We will call this graph the \"standard\" graph\n",
    "adjacency_matrix = sbm_list_standard\n",
    "_ = network_visualization(adjacency_matrix) # \"_ =\" to skip the long list"
   ]
  },
  {
   "cell_type": "markdown",
   "id": "02f52850",
   "metadata": {},
   "source": [
    "**1.1.3**. Repeat 1.1.1 and 1.1.2 multiple times by changing the values of the SBM parameters"
   ]
  },
  {
   "cell_type": "code",
   "execution_count": null,
   "id": "118076a2",
   "metadata": {},
   "outputs": [],
   "source": [
    "nodes_community = 50 \n",
    "num_communities = 10\n",
    "deg_in = 10\n",
    "deg_out = 0.005\n",
    "sbm_list_light, sbm_graph_light = get_SBM_network(nodes_community, num_communities, deg_in, deg_out)"
   ]
  },
  {
   "cell_type": "code",
   "execution_count": null,
   "id": "a144d96b",
   "metadata": {},
   "outputs": [],
   "source": [
    "# We will call this graph the \"light\" graph\n",
    "adjacency_matrix = sbm_list_light\n",
    "_ = network_visualization(adjacency_matrix)"
   ]
  },
  {
   "cell_type": "code",
   "execution_count": null,
   "id": "05df6793",
   "metadata": {},
   "outputs": [],
   "source": [
    "nodes_community = 75 \n",
    "num_communities = 13\n",
    "deg_in = 15\n",
    "deg_out = 0.005\n",
    "sbm_list_medium, sbm_graph_medium = get_SBM_network(nodes_community, num_communities, deg_in, deg_out)"
   ]
  },
  {
   "cell_type": "code",
   "execution_count": null,
   "id": "2d32297d",
   "metadata": {},
   "outputs": [],
   "source": [
    "# We will call this graph the \"medium\" graph\n",
    "adjacency_matrix = sbm_list_medium\n",
    "_ = network_visualization(adjacency_matrix)"
   ]
  },
  {
   "cell_type": "code",
   "execution_count": null,
   "id": "a6d9e983",
   "metadata": {},
   "outputs": [],
   "source": [
    "nodes_community = 100 \n",
    "num_communities = 15\n",
    "deg_in = 20\n",
    "deg_out = 0.005\n",
    "sbm_list_heavy, sbm_graph_heavy = get_SBM_network(nodes_community, num_communities, deg_in, deg_out)"
   ]
  },
  {
   "cell_type": "code",
   "execution_count": null,
   "id": "99b51833",
   "metadata": {},
   "outputs": [],
   "source": [
    "adjacency_matrix = sbm_list_heavy\n",
    "_ = network_visualization(adjacency_matrix)"
   ]
  },
  {
   "cell_type": "markdown",
   "id": "441bbe41",
   "metadata": {},
   "source": [
    "**1.1.4**. Repeat the steps above but this time visualize the network with nodes colored according to the ground truth communities"
   ]
  },
  {
   "cell_type": "code",
   "execution_count": null,
   "id": "47e6f7ec",
   "metadata": {},
   "outputs": [],
   "source": [
    "# Using the first \"standard\" graph\n",
    "sbm_adj_label = []\n",
    "sbm_adj_label.append((sbm_list_standard, sbm_graph_standard))\n",
    "for adj, label in sbm_adj_label:\n",
    "    result = network_visualization(adj, community_assignment=label)"
   ]
  },
  {
   "cell_type": "code",
   "execution_count": null,
   "id": "e646a4d7",
   "metadata": {},
   "outputs": [],
   "source": [
    "# Using the second \"light\" graph\n",
    "sbm_adj_label = []\n",
    "sbm_adj_label.append((sbm_list_light, sbm_graph_light))\n",
    "for adj, label in sbm_adj_label:\n",
    "    result = network_visualization(adj, community_assignment=label)"
   ]
  },
  {
   "cell_type": "code",
   "execution_count": null,
   "id": "d01ecf26",
   "metadata": {
    "scrolled": true
   },
   "outputs": [],
   "source": [
    "# Using the first \"medium\" graph\n",
    "sbm_adj_label = []\n",
    "sbm_adj_label.append((sbm_list_medium, sbm_graph_medium))\n",
    "for adj, label in sbm_adj_label:\n",
    "    result = network_visualization(adj, community_assignment=label)"
   ]
  },
  {
   "cell_type": "code",
   "execution_count": null,
   "id": "08a539df",
   "metadata": {},
   "outputs": [],
   "source": [
    "# Using the first \"heavy\" graph\n",
    "sbm_adj_label = []\n",
    "sbm_adj_label.append((sbm_list_heavy, sbm_graph_heavy))\n",
    "for adj, label in sbm_adj_label:\n",
    "    result = network_visualization(adj, community_assignment=label)"
   ]
  },
  {
   "cell_type": "markdown",
   "id": "aa61bb51",
   "metadata": {},
   "source": [
    "#### 1.2  Communities on the MNIST handwritten digit dataset"
   ]
  },
  {
   "cell_type": "markdown",
   "id": "e08c1d53",
   "metadata": {},
   "source": [
    "**1.2.1**. Generate a network of K-nearest neighbors of the MNIST handwritten digits. \\\n",
    "Use the following parameters: KNN=50, images_per_digit=300\n",
    "\n",
    "**Rk**: KNN is an unsupervised clustering algorithm that can create a graph based on the $k$ nearest neighbours from each datapoint. It will be developed later in the course."
   ]
  },
  {
   "cell_type": "code",
   "execution_count": null,
   "id": "ea8c988f",
   "metadata": {},
   "outputs": [],
   "source": [
    "mnist_path = \"./MNIST_data\"\n",
    "KNN = 50\n",
    "images_per_digit = 300\n",
    "knn_list_standard, knn_graph_standard = get_mnist_KNN_network(mnist_path, KNN, images_per_digit)"
   ]
  },
  {
   "cell_type": "markdown",
   "id": "b88e245b",
   "metadata": {},
   "source": [
    "**1.2.2**. Visualize the network using the function network_visualization()"
   ]
  },
  {
   "cell_type": "code",
   "execution_count": null,
   "id": "824cfb91",
   "metadata": {},
   "outputs": [],
   "source": [
    "# We will call this graph the \"standard\" graph\n",
    "adjacency_matrix = knn_list_standard\n",
    "_ = network_visualization(adjacency_matrix)"
   ]
  },
  {
   "cell_type": "markdown",
   "id": "994bd409",
   "metadata": {},
   "source": [
    "**1.2.3**. Repeat 1.1.1 and 1.1.2 multiple times by changing the values of KNN and images_per_digit"
   ]
  },
  {
   "cell_type": "code",
   "execution_count": null,
   "id": "e88e6c15",
   "metadata": {},
   "outputs": [],
   "source": [
    "mnist_path = \"./MNIST_data\"\n",
    "KNN = 10\n",
    "images_per_digit = 20\n",
    "knn_list_light, knn_graph_light = get_mnist_KNN_network(mnist_path, KNN, images_per_digit)"
   ]
  },
  {
   "cell_type": "code",
   "execution_count": null,
   "id": "7145a977",
   "metadata": {},
   "outputs": [],
   "source": [
    "# We will call this graph the \"light\" graph\n",
    "adjacency_matrix = knn_list_light\n",
    "_ = network_visualization(adjacency_matrix)"
   ]
  },
  {
   "cell_type": "code",
   "execution_count": null,
   "id": "6791ec9c",
   "metadata": {},
   "outputs": [],
   "source": [
    "mnist_path = \"./MNIST_data\"\n",
    "KNN = 10\n",
    "images_per_digit = 40\n",
    "knn_list_medium, knn_graph_medium = get_mnist_KNN_network(mnist_path, KNN, images_per_digit)"
   ]
  },
  {
   "cell_type": "code",
   "execution_count": null,
   "id": "4ac31a4b",
   "metadata": {},
   "outputs": [],
   "source": [
    "# We will call this graph the \"medium\" graph\n",
    "adjacency_matrix = knn_list_medium\n",
    "_ = network_visualization(adjacency_matrix)"
   ]
  },
  {
   "cell_type": "code",
   "execution_count": null,
   "id": "c2180d5b",
   "metadata": {},
   "outputs": [],
   "source": [
    "mnist_path = \"./MNIST_data\"\n",
    "KNN = 10\n",
    "images_per_digit = 80\n",
    "knn_list_heavy, knn_graph_heavy = get_mnist_KNN_network(mnist_path, KNN, images_per_digit)"
   ]
  },
  {
   "cell_type": "code",
   "execution_count": null,
   "id": "6f599c60",
   "metadata": {},
   "outputs": [],
   "source": [
    "# We will call this graph the \"heavy\" graph\n",
    "adjacency_matrix = knn_list_heavy\n",
    "_ = network_visualization(adjacency_matrix)"
   ]
  },
  {
   "cell_type": "markdown",
   "id": "076e2cd8",
   "metadata": {},
   "source": [
    "**1.2.4**. Repeat the steps above but this time visualize the network with nodes colored according to the ground truth communities (= actual digits)"
   ]
  },
  {
   "cell_type": "code",
   "execution_count": null,
   "id": "ad6f692d",
   "metadata": {},
   "outputs": [],
   "source": [
    "# Using the first \"standard\" graph\n",
    "knn_adj_label = []\n",
    "knn_adj_label.append((knn_list_standard, knn_graph_standard))\n",
    "for adj, label in knn_adj_label:\n",
    "    result = network_visualization(adj, community_assignment=label)"
   ]
  },
  {
   "cell_type": "code",
   "execution_count": null,
   "id": "72d951aa",
   "metadata": {},
   "outputs": [],
   "source": [
    "# Using the first \"light\" graph\n",
    "knn_adj_label = []\n",
    "knn_adj_label.append((knn_list_light, knn_graph_light))\n",
    "for adj, label in knn_adj_label:\n",
    "    result = network_visualization(adj, community_assignment=label)"
   ]
  },
  {
   "cell_type": "code",
   "execution_count": null,
   "id": "8fe2a803",
   "metadata": {},
   "outputs": [],
   "source": [
    "# Using the first \"medium\" graph\n",
    "knn_adj_label = []\n",
    "knn_adj_label.append((knn_list_medium, knn_graph_medium))\n",
    "for adj, label in knn_adj_label:\n",
    "    result = network_visualization(adj, community_assignment=label)"
   ]
  },
  {
   "cell_type": "code",
   "execution_count": null,
   "id": "54db1619",
   "metadata": {},
   "outputs": [],
   "source": [
    "# Using the first \"heavy\" graph\n",
    "knn_adj_label = []\n",
    "knn_adj_label.append((knn_list_heavy, knn_graph_heavy))\n",
    "for adj, label in knn_adj_label:\n",
    "    result = network_visualization(adj, community_assignment=label)"
   ]
  },
  {
   "cell_type": "markdown",
   "id": "dcd963cf",
   "metadata": {},
   "source": [
    "#### Open questions  \n",
    "1. How the selection of parameters affects the community structure?\n"
   ]
  },
  {
   "cell_type": "markdown",
   "id": "78a06780",
   "metadata": {},
   "source": [
    "### Answer:\n",
    "#### for get_mnist_KNN_network()\n",
    "\n",
    "#### mnist_path: \n",
    "This parameter specifies the path to the MNIST dataset. It doesn't directly affect the community structure but determines the dataset used to create the network.\n",
    "\n",
    "#### KNN: \n",
    "It determines the number of nearest neighbors considered when constructing the K-nearest neighbors graph. A higher value of K will result in a more connected graph, potentially reducing the modularity of the community structure.\n",
    "\n",
    "#### images_per_digit: \n",
    "This parameter controls the number of images per digit (class) selected from the MNIST dataset. A higher value may lead to a denser representation of each class in the network, potentially affecting the community structure.\n",
    "\n",
    "#### seed (=0, left untouched): \n",
    "It is the random seed for reproducibility. Changing the seed will result in a different random subset of images being selected, potentially influencing the community structure.\n",
    "\n",
    "#### for get_SBM_network():\n",
    "\n",
    "#### nodes_community:\n",
    "It determines the number of nodes in each community. A larger value may lead to larger, more interconnected communities.\n",
    "\n",
    "#### num_communities:\n",
    "Specifies the total number of communities in the network. Increasing this parameter will create more distinct communities.\n",
    "\n",
    "#### deg_in:\n",
    "It controls the average in-degree of nodes within the same community. A higher value will result in denser connections within communities.\n",
    "\n",
    "#### deg_out:\n",
    "It controls the average out-degree of nodes to nodes in other communities. A higher value will increase the connections between communities.\n",
    "\n",
    "#### seed (=0, left untouched): \n",
    "The random seed for network generation. Changing the seed will result in a different random network with potentially different community structures."
   ]
  },
  {
   "cell_type": "markdown",
   "id": "45d574de",
   "metadata": {},
   "source": [
    "2. Is there a selection of parameters where the ground truth communities can be visually identified (without coloring them)?\n"
   ]
  },
  {
   "cell_type": "markdown",
   "id": "8aa4e934",
   "metadata": {},
   "source": [
    "### Answer\n",
    "#### for get_mnist_KNN_network():\n",
    "Selection of Parameters:  \n",
    "A smaller value of KNN may result in a more modular structure where each node is primarily connected to its nearest neighbors. This can make it visually easier to identify communities.  \n",
    "A moderate value for images_per_digit ensures a sufficient number of nodes per digit class, making the communities more distinguishable."
   ]
  },
  {
   "cell_type": "code",
   "execution_count": null,
   "id": "51fd7f83",
   "metadata": {},
   "outputs": [],
   "source": [
    "mnist_path = \"./MNIST_data\"\n",
    "KNN = 2\n",
    "images_per_digit = 2\n",
    "knn_list_test, knn_graph_test = get_mnist_KNN_network(mnist_path, KNN, images_per_digit)"
   ]
  },
  {
   "cell_type": "code",
   "execution_count": null,
   "id": "328c98f0",
   "metadata": {},
   "outputs": [],
   "source": [
    "adjacency_matrix = knn_list_test\n",
    "_ = network_visualization(adjacency_matrix)"
   ]
  },
  {
   "cell_type": "markdown",
   "id": "69194c4a",
   "metadata": {},
   "source": [
    "#### for get_SBM_network():\n",
    "Selection of Parameters:  \n",
    "Choose a moderate value for nodes_community so that communities are neither too small nor too large.  \n",
    "Set a reasonable value for num_communities to create a network with a discernible number of communities.  \n",
    "Adjust deg_in and deg_out to control the density within and between communities, respectively."
   ]
  },
  {
   "cell_type": "code",
   "execution_count": null,
   "id": "b09df315",
   "metadata": {},
   "outputs": [],
   "source": [
    "nodes_community = 30 \n",
    "num_communities = 3\n",
    "deg_in = 10\n",
    "deg_out = 0.005\n",
    "sbm_list_test, sbm_graph_test = get_SBM_network(nodes_community, num_communities, deg_in, deg_out)"
   ]
  },
  {
   "cell_type": "code",
   "execution_count": null,
   "id": "300bf55c",
   "metadata": {},
   "outputs": [],
   "source": [
    "adjacency_matrix = sbm_list_test\n",
    "_ = network_visualization(adjacency_matrix)"
   ]
  },
  {
   "cell_type": "markdown",
   "id": "7d296d98",
   "metadata": {},
   "source": [
    "3. Is it true that MNIST images from same digits form communities? \n"
   ]
  },
  {
   "cell_type": "markdown",
   "id": "f1768f33",
   "metadata": {},
   "source": [
    "### Answer\n",
    "\n",
    "In the context of the get_mnist_KNN_network function provided earlier, where a subset of MNIST images is used to construct a K-nearest neighbors graph, it is reasonable to expect that MNIST images of the same digit could form communities. The function selects a subset of images for each digit class and constructs a graph based on the distances between these images.\n",
    "\n",
    "Here's why MNIST images of the same digit may form communities:\n",
    "\n",
    "#### Visual Similarity:\n",
    "MNIST images of the same digit class are visually similar. The K-nearest neighbors graph is likely to connect images that are visually close to each other, forming clusters or communities.\n",
    "\n",
    "#### Subset Selection:\n",
    "The function selects a subset of images for each digit class. This subset may include representative images that share common features, contributing to the formation of communities.\n",
    "\n",
    "#### KNN Graph Construction:\n",
    "The K-nearest neighbors graph is constructed based on distances between images. Images of the same digit are likely to have smaller distances, leading to stronger connections in the graph.\n",
    "\n",
    "However, the degree to which MNIST images of the same digit form distinct communities can depend on the specific parameters used in the function, such as the value of KNN and images_per_digit."
   ]
  },
  {
   "cell_type": "markdown",
   "id": "b7f0a209",
   "metadata": {},
   "source": [
    "4. Discuss the advantages and limitations of the visual approach for community detection."
   ]
  },
  {
   "cell_type": "markdown",
   "id": "16f4a088",
   "metadata": {},
   "source": [
    "Advantages of Visual Approach for Community Detection:\n",
    "\n",
    "    Intuitive Interpretation:\n",
    "        Visualizations provide an intuitive and easily interpretable representation of community structures. Patterns and clusters in the data can be quickly identified by observing the visual layout of nodes and edges.\n",
    "\n",
    "    Pattern Recognition:\n",
    "        Human vision is excellent at pattern recognition. Detecting communities visually allows for the identification of intricate structures and relationships within the network that might be challenging to capture through quantitative metrics alone.\n",
    "\n",
    "    Exploratory Data Analysis:\n",
    "        Visualizations facilitate exploratory data analysis. Researchers can visually inspect the network, identify interesting regions, and make hypotheses about the nature of communities or substructures within the data.\n",
    "\n",
    "    Communication:\n",
    "        Visualization is a powerful tool for communicating results to a broader audience, including stakeholders who may not have a technical background. Clear visualizations can convey complex network structures and community patterns effectively.\n",
    "\n",
    "    Qualitative Assessment:\n",
    "        Visual inspection allows for a qualitative assessment of the quality and meaningfulness of detected communities. Researchers can validate whether the identified groups align with their expectations or domain knowledge.\n",
    "\n",
    "Limitations of Visual Approach for Community Detection:\n",
    "\n",
    "    Subjectivity:\n",
    "        The interpretation of visual results can be subjective. Different individuals may perceive community structures differently, leading to potential inconsistencies in the analysis.\n",
    "\n",
    "    Scalability:\n",
    "        Visualizing large networks with numerous nodes and edges can be challenging. As the size of the network increases, it becomes more difficult to create clear and informative visualizations, potentially limiting the ability to detect smaller or more subtle communities.\n",
    "\n",
    "    Incompleteness:\n",
    "        Visual inspection may not reveal all community structures, especially when communities overlap or when they are not visually distinct. Some community detection algorithms are designed to handle overlapping communities, which may not be immediately apparent in a visualization.\n",
    "\n",
    "    Dependency on Layout Algorithms:\n",
    "        Different layout algorithms may produce different visual representations of the same network. The choice of layout can impact the perceived structure of communities, and there is often no single \"correct\" layout.\n",
    "\n",
    "    Limited Quantitative Metrics:\n",
    "        While visual inspection provides qualitative insights, it may lack the precision of quantitative metrics. Some community detection algorithms provide metrics such as modularity or conductance, which offer more precise measures of community quality.\n",
    "\n",
    "    Dynamic Networks:\n",
    "        Visualizations are static snapshots of network structures. For dynamic networks where the community structure evolves over time, capturing temporal aspects and changes in communities may require additional visualization techniques or analyses.\n",
    "\n",
    "In summary, while visual approaches are powerful for gaining insights and communicating results, they should be complemented with quantitative metrics and rigorous analyses to ensure a comprehensive understanding of community structures in complex networks."
   ]
  },
  {
   "cell_type": "markdown",
   "id": "b1f8cec9",
   "metadata": {},
   "source": [
    "### Exercise 2: Louvain algorithm\n",
    "\n",
    "Now that you have faced some of the limitations of the visual approach, it is time to address some of them through the paradigm of unsupervised learning. The goal of this exercise is to apply the Louvain algorithm and to evaluate the performance of community detection algorithms through the Adjusted Rand Index and through modularity. "
   ]
  },
  {
   "cell_type": "markdown",
   "id": "a8b30a91",
   "metadata": {},
   "source": [
    "#### 2.1 Evaluation of Louvain algorithm"
   ]
  },
  {
   "cell_type": "markdown",
   "id": "6cdbb2ce",
   "metadata": {},
   "source": [
    "**2.1.1**. Apply the algorithm multiple times on the SBM network for different values of the SBM network generation parameters."
   ]
  },
  {
   "cell_type": "code",
   "execution_count": null,
   "id": "d0fab5c6",
   "metadata": {},
   "outputs": [],
   "source": []
  },
  {
   "cell_type": "markdown",
   "id": "8669b77f",
   "metadata": {},
   "source": [
    "**2.1.2**. Apply the Louvain algorithm multiple times on the MNIST network for different values of the MNIST network parameters (meaning the KNN parameters)."
   ]
  },
  {
   "cell_type": "code",
   "execution_count": null,
   "id": "a01c4f87",
   "metadata": {},
   "outputs": [],
   "source": []
  },
  {
   "cell_type": "markdown",
   "id": "bc21e07f",
   "metadata": {},
   "source": [
    "**2.1.3**. Evaluate the output of the Louvain algorithm visually."
   ]
  },
  {
   "cell_type": "code",
   "execution_count": null,
   "id": "33145a20",
   "metadata": {},
   "outputs": [],
   "source": []
  },
  {
   "cell_type": "code",
   "execution_count": null,
   "id": "d64c6aeb",
   "metadata": {},
   "outputs": [],
   "source": []
  },
  {
   "cell_type": "markdown",
   "id": "69b51915",
   "metadata": {},
   "source": [
    "**2.1.4**. Evaluate the output of the Louvain algorithm through the Adjusted Rand Index (for both SBM and MNIST data)."
   ]
  },
  {
   "cell_type": "code",
   "execution_count": null,
   "id": "0979931b",
   "metadata": {},
   "outputs": [],
   "source": []
  },
  {
   "cell_type": "markdown",
   "id": "df3a03b9",
   "metadata": {},
   "source": [
    "**2.1.5**. Measure the quality of the communities assgined by the Louvain algorithm for both SBM and MNIST data in terms of modularity now. Compare these values with the modularity of the ground truth communities. "
   ]
  },
  {
   "cell_type": "code",
   "execution_count": null,
   "id": "be175296",
   "metadata": {},
   "outputs": [],
   "source": []
  },
  {
   "cell_type": "code",
   "execution_count": null,
   "id": "0ba14982",
   "metadata": {},
   "outputs": [],
   "source": []
  },
  {
   "cell_type": "markdown",
   "id": "16767ced",
   "metadata": {},
   "source": [
    "#### Open Questions  \n",
    "\n",
    "1. Why is the output of the Louvain algorithm different for each run?"
   ]
  },
  {
   "cell_type": "code",
   "execution_count": null,
   "id": "6d582311",
   "metadata": {},
   "outputs": [],
   "source": []
  },
  {
   "cell_type": "markdown",
   "id": "64c8e268",
   "metadata": {},
   "source": [
    "2. Are the differences in the output significant? \n"
   ]
  },
  {
   "cell_type": "code",
   "execution_count": null,
   "id": "938e4146",
   "metadata": {},
   "outputs": [],
   "source": []
  },
  {
   "cell_type": "markdown",
   "id": "9e872656",
   "metadata": {},
   "source": [
    "3. Is the Louvain algorithm robust or sensitive to the selection of parameters? \n"
   ]
  },
  {
   "cell_type": "code",
   "execution_count": null,
   "id": "067808eb",
   "metadata": {},
   "outputs": [],
   "source": []
  },
  {
   "cell_type": "markdown",
   "id": "5969c16a",
   "metadata": {},
   "source": [
    "4. Discuss the advantages and disadvantages of the modularity score over the Adjusted Rand Index."
   ]
  },
  {
   "cell_type": "code",
   "execution_count": null,
   "id": "2804fb7f",
   "metadata": {},
   "outputs": [],
   "source": []
  },
  {
   "cell_type": "markdown",
   "id": "098b68da",
   "metadata": {},
   "source": [
    "---------"
   ]
  },
  {
   "cell_type": "markdown",
   "id": "f9862c48",
   "metadata": {},
   "source": [
    "## Appendix"
   ]
  },
  {
   "cell_type": "markdown",
   "id": "d691ef87",
   "metadata": {},
   "source": [
    "### Generating a stochastic block model network"
   ]
  },
  {
   "cell_type": "markdown",
   "id": "8b714c35",
   "metadata": {},
   "source": [
    "**get_SBM_network(nodes_community, num_communities, deg_in, deg_out, seed=0)**\n",
    "\n",
    "Input:\n",
    "- nodes_community: Number of nodes per community\n",
    "- mum_communities: Number of communities\n",
    "- deg_in: Average degree of vertices towards its own community\n",
    "- deg_out: Average degree of vertices towards other communities\n",
    "- seed: Random seed for reproducibility\n",
    "\n",
    "Output:\n",
    "- Adj: Sparse adjacency matrix (Scipy sparse matrix)\n",
    "- ground_truth: Dictionary with ground truth communities ( ground_truth[ node_id ] = community )"
   ]
  },
  {
   "cell_type": "markdown",
   "id": "b83bbe87",
   "metadata": {},
   "source": [
    "### Generating a K-nearest neighbor graph from MNIST dataset"
   ]
  },
  {
   "cell_type": "markdown",
   "id": "38678cbe",
   "metadata": {},
   "source": [
    "**get_mnist_KNN_network(mnist_path, KNN=15, images_per_digit=300, seed=0)**\n",
    "\n",
    "Input:\n",
    "- mnist_path: Path towards MNIST dataset\n",
    "- KNN: Nearest neighbors to branch\n",
    "- images_per_digit: Number of image samples per digit (nodes per community)\n",
    "- seed: Random seed for reproducibility\n",
    "\n",
    "Output:\n",
    "- Adj: Sparse adjacency matrix (Scipy sparse matrix)\n",
    "- ground_truth: Dictionary with ground truth communities ( ground_truth[ node_id ] = community )"
   ]
  },
  {
   "cell_type": "markdown",
   "id": "ccff5b8c",
   "metadata": {},
   "source": [
    "### Visualizing a network"
   ]
  },
  {
   "cell_type": "markdown",
   "id": "5f9f8f22",
   "metadata": {},
   "source": [
    "**network_visualization( Adj, zoom, layout (optional), community_assignment (optional) )**\n",
    "\n",
    "Input:\n",
    "- Adj: Network adjacency matrix (Scipy sparse matrix)\n",
    "- zoom: Visualization scale\n",
    "- layout (optional): coordinates to employ (if not provided a new one will be computed)\n",
    "- community_assignment (optional): Community assignment to color nodes according to their community (community_assignment[node_id] = community)\n",
    "\n",
    "Output:\n",
    "- layout: coordinates employed"
   ]
  },
  {
   "cell_type": "markdown",
   "id": "74093c5c",
   "metadata": {},
   "source": [
    "### Louvain Algorithm"
   ]
  },
  {
   "cell_type": "markdown",
   "id": "8d5de93c",
   "metadata": {},
   "source": [
    "**louvain_communities(Adj)**\n",
    "\n",
    "Input:\n",
    "- Adj: Network adjacency matrix\n",
    "\n",
    "Output:\n",
    "- Community_assignment: Output of Louvain algorithm (Dictionary[node_id] = community)"
   ]
  },
  {
   "cell_type": "markdown",
   "id": "c7f0d5de",
   "metadata": {},
   "source": [
    "### Adjusted Rand Index"
   ]
  },
  {
   "cell_type": "markdown",
   "id": "b6c39890",
   "metadata": {},
   "source": [
    "**ari_score(Adj, ground_truth, community_assignment)**\n",
    "\n",
    "Input:\n",
    "- Adj: Network adjacency matrix (Scipy sparse matrix)\n",
    "- ground_truth: dictionary with ground_truth communities\n",
    "- community_assignment: dictionary with the community assignment to evaluate\n",
    "\n",
    "Output:\n",
    "- ari: adjusted Rand index"
   ]
  },
  {
   "cell_type": "markdown",
   "id": "e2189acb",
   "metadata": {},
   "source": [
    "### Modularity"
   ]
  },
  {
   "cell_type": "markdown",
   "id": "321193d6",
   "metadata": {},
   "source": [
    "**modularity_score(Adj, community_assignment)**\n",
    "\n",
    "Input:\n",
    "- Adj: Network adjacency matrix (Scipy sparse matrix)\n",
    "- community_assignment: dictionary with the community assignment to evaluate\n",
    "\n",
    "Output:\n",
    "- modularity: modularity score "
   ]
  }
 ],
 "metadata": {
  "kernelspec": {
   "display_name": "Python 3",
   "language": "python",
   "name": "python3"
  },
  "language_info": {
   "codemirror_mode": {
    "name": "ipython",
    "version": 3
   },
   "file_extension": ".py",
   "mimetype": "text/x-python",
   "name": "python",
   "nbconvert_exporter": "python",
   "pygments_lexer": "ipython3",
   "version": "3.9.6"
  }
 },
 "nbformat": 4,
 "nbformat_minor": 5
}
